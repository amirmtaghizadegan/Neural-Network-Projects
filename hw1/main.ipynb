{
 "cells": [
  {
   "attachments": {},
   "cell_type": "markdown",
   "metadata": {},
   "source": [
    "# Importing Libraries"
   ]
  },
  {
   "cell_type": "code",
   "execution_count": 2,
   "metadata": {},
   "outputs": [],
   "source": [
    "import pandas as pd\n",
    "import matplotlib.pyplot as plt\n",
    "import numpy as np\n",
    "from keras import models\n",
    "from keras import layers\n",
    "from keras.metrics import mean_absolute_error\n",
    "from sklearn.model_selection import KFold\n",
    "from sklearn.utils import shuffle\n",
    "from keras.optimizers import SGD\n",
    "from keras.utils.np_utils import to_categorical\n",
    "from keras import regularizers"
   ]
  },
  {
   "attachments": {},
   "cell_type": "markdown",
   "metadata": {},
   "source": [
    "# Regression Problem"
   ]
  },
  {
   "cell_type": "code",
   "execution_count": 7,
   "metadata": {},
   "outputs": [
    {
     "name": "stdout",
     "output_type": "stream",
     "text": [
      "(506, 14)\n"
     ]
    },
    {
     "data": {
      "text/html": [
       "<div>\n",
       "<style scoped>\n",
       "    .dataframe tbody tr th:only-of-type {\n",
       "        vertical-align: middle;\n",
       "    }\n",
       "\n",
       "    .dataframe tbody tr th {\n",
       "        vertical-align: top;\n",
       "    }\n",
       "\n",
       "    .dataframe thead th {\n",
       "        text-align: right;\n",
       "    }\n",
       "</style>\n",
       "<table border=\"1\" class=\"dataframe\">\n",
       "  <thead>\n",
       "    <tr style=\"text-align: right;\">\n",
       "      <th></th>\n",
       "      <th>0</th>\n",
       "      <th>1</th>\n",
       "      <th>2</th>\n",
       "      <th>3</th>\n",
       "      <th>4</th>\n",
       "      <th>5</th>\n",
       "      <th>6</th>\n",
       "      <th>7</th>\n",
       "      <th>8</th>\n",
       "      <th>9</th>\n",
       "      <th>10</th>\n",
       "      <th>11</th>\n",
       "      <th>12</th>\n",
       "      <th>13</th>\n",
       "    </tr>\n",
       "  </thead>\n",
       "  <tbody>\n",
       "    <tr>\n",
       "      <th>0</th>\n",
       "      <td>0.00632</td>\n",
       "      <td>18.0</td>\n",
       "      <td>2.31</td>\n",
       "      <td>0</td>\n",
       "      <td>0.538</td>\n",
       "      <td>6.575</td>\n",
       "      <td>65.2</td>\n",
       "      <td>4.0900</td>\n",
       "      <td>1</td>\n",
       "      <td>296.0</td>\n",
       "      <td>15.3</td>\n",
       "      <td>396.90</td>\n",
       "      <td>4.98</td>\n",
       "      <td>24.0</td>\n",
       "    </tr>\n",
       "    <tr>\n",
       "      <th>1</th>\n",
       "      <td>0.02731</td>\n",
       "      <td>0.0</td>\n",
       "      <td>7.07</td>\n",
       "      <td>0</td>\n",
       "      <td>0.469</td>\n",
       "      <td>6.421</td>\n",
       "      <td>78.9</td>\n",
       "      <td>4.9671</td>\n",
       "      <td>2</td>\n",
       "      <td>242.0</td>\n",
       "      <td>17.8</td>\n",
       "      <td>396.90</td>\n",
       "      <td>9.14</td>\n",
       "      <td>21.6</td>\n",
       "    </tr>\n",
       "    <tr>\n",
       "      <th>2</th>\n",
       "      <td>0.02729</td>\n",
       "      <td>0.0</td>\n",
       "      <td>7.07</td>\n",
       "      <td>0</td>\n",
       "      <td>0.469</td>\n",
       "      <td>7.185</td>\n",
       "      <td>61.1</td>\n",
       "      <td>4.9671</td>\n",
       "      <td>2</td>\n",
       "      <td>242.0</td>\n",
       "      <td>17.8</td>\n",
       "      <td>392.83</td>\n",
       "      <td>4.03</td>\n",
       "      <td>34.7</td>\n",
       "    </tr>\n",
       "    <tr>\n",
       "      <th>3</th>\n",
       "      <td>0.03237</td>\n",
       "      <td>0.0</td>\n",
       "      <td>2.18</td>\n",
       "      <td>0</td>\n",
       "      <td>0.458</td>\n",
       "      <td>6.998</td>\n",
       "      <td>45.8</td>\n",
       "      <td>6.0622</td>\n",
       "      <td>3</td>\n",
       "      <td>222.0</td>\n",
       "      <td>18.7</td>\n",
       "      <td>394.63</td>\n",
       "      <td>2.94</td>\n",
       "      <td>33.4</td>\n",
       "    </tr>\n",
       "    <tr>\n",
       "      <th>4</th>\n",
       "      <td>0.06905</td>\n",
       "      <td>0.0</td>\n",
       "      <td>2.18</td>\n",
       "      <td>0</td>\n",
       "      <td>0.458</td>\n",
       "      <td>7.147</td>\n",
       "      <td>54.2</td>\n",
       "      <td>6.0622</td>\n",
       "      <td>3</td>\n",
       "      <td>222.0</td>\n",
       "      <td>18.7</td>\n",
       "      <td>396.90</td>\n",
       "      <td>5.33</td>\n",
       "      <td>36.2</td>\n",
       "    </tr>\n",
       "  </tbody>\n",
       "</table>\n",
       "</div>"
      ],
      "text/plain": [
       "        0     1     2   3      4      5     6       7   8      9     10  \\\n",
       "0  0.00632  18.0  2.31   0  0.538  6.575  65.2  4.0900   1  296.0  15.3   \n",
       "1  0.02731   0.0  7.07   0  0.469  6.421  78.9  4.9671   2  242.0  17.8   \n",
       "2  0.02729   0.0  7.07   0  0.469  7.185  61.1  4.9671   2  242.0  17.8   \n",
       "3  0.03237   0.0  2.18   0  0.458  6.998  45.8  6.0622   3  222.0  18.7   \n",
       "4  0.06905   0.0  2.18   0  0.458  7.147  54.2  6.0622   3  222.0  18.7   \n",
       "\n",
       "       11    12    13  \n",
       "0  396.90  4.98  24.0  \n",
       "1  396.90  9.14  21.6  \n",
       "2  392.83  4.03  34.7  \n",
       "3  394.63  2.94  33.4  \n",
       "4  396.90  5.33  36.2  "
      ]
     },
     "execution_count": 7,
     "metadata": {},
     "output_type": "execute_result"
    }
   ],
   "source": [
    "df = pd.read_csv('./housing.csv', delim_whitespace=True, header=None)\n",
    "print(df.shape)\n",
    "df.head()"
   ]
  },
  {
   "attachments": {},
   "cell_type": "markdown",
   "metadata": {},
   "source": [
    "### seperating test and train"
   ]
  },
  {
   "cell_type": "code",
   "execution_count": 8,
   "metadata": {},
   "outputs": [],
   "source": [
    "df = shuffle(df)\n",
    "train = df[:int(df.shape[0]*.8)]\n",
    "test = df[int(df.shape[0]*.8):]"
   ]
  },
  {
   "cell_type": "code",
   "execution_count": 9,
   "metadata": {},
   "outputs": [],
   "source": [
    "train_x = train.to_numpy()[:, :-1]\n",
    "train_y = train.to_numpy()[:, -1]\n",
    "test_x = test.to_numpy()[:, :-1]\n",
    "test_y = test.to_numpy()[:, -1]"
   ]
  },
  {
   "attachments": {},
   "cell_type": "markdown",
   "metadata": {},
   "source": [
    "### Train Normalization"
   ]
  },
  {
   "cell_type": "code",
   "execution_count": 10,
   "metadata": {},
   "outputs": [],
   "source": [
    "train_x = (train_x - train_x.mean(0)) / train_x.std(0)\n",
    "# train_x[:5, :]"
   ]
  },
  {
   "attachments": {},
   "cell_type": "markdown",
   "metadata": {},
   "source": [
    "### Test Normalization"
   ]
  },
  {
   "cell_type": "code",
   "execution_count": 11,
   "metadata": {},
   "outputs": [],
   "source": [
    "test_x = (test_x - test_x.mean(0)) / test_x.std(0)\n",
    "# test_x[:5, :]"
   ]
  },
  {
   "attachments": {},
   "cell_type": "markdown",
   "metadata": {},
   "source": [
    "## MLP"
   ]
  },
  {
   "cell_type": "code",
   "execution_count": 14,
   "metadata": {},
   "outputs": [],
   "source": [
    "def create_model():\n",
    "    model = models.Sequential()\n",
    "    model.add(layers.Dense(256, activation='relu', input_shape=(13,)))\n",
    "    model.add(layers.Dense(64, activation='relu'))\n",
    "    model.add(layers.Dense(16, activation='relu'))\n",
    "    model.add(layers.Dense(1))\n",
    "\n",
    "    model.compile(optimizer='rmsprop', loss='mean_squared_error', metrics=['mean_absolute_error'])\n",
    "    return model"
   ]
  },
  {
   "cell_type": "code",
   "execution_count": 15,
   "metadata": {},
   "outputs": [
    {
     "name": "stdout",
     "output_type": "stream",
     "text": [
      "Metal device set to: Apple M1\n",
      "\n",
      "systemMemory: 8.00 GB\n",
      "maxCacheSize: 2.67 GB\n",
      "\n",
      "Epoch 1/5\n"
     ]
    },
    {
     "name": "stderr",
     "output_type": "stream",
     "text": [
      "2023-06-30 10:41:03.503495: W tensorflow/tsl/platform/profile_utils/cpu_utils.cc:128] Failed to get CPU frequency: 0 Hz\n"
     ]
    },
    {
     "name": "stdout",
     "output_type": "stream",
     "text": [
      "323/323 [==============================] - 3s 7ms/step - loss: 109.1708 - mean_absolute_error: 6.7779\n",
      "Epoch 2/5\n",
      "323/323 [==============================] - 3s 8ms/step - loss: 20.5230 - mean_absolute_error: 3.1066\n",
      "Epoch 3/5\n",
      "323/323 [==============================] - 2s 7ms/step - loss: 16.7521 - mean_absolute_error: 2.9018\n",
      "Epoch 4/5\n",
      "323/323 [==============================] - 2s 7ms/step - loss: 16.2088 - mean_absolute_error: 2.7597\n",
      "Epoch 5/5\n",
      "323/323 [==============================] - 2s 7ms/step - loss: 14.6259 - mean_absolute_error: 2.5434\n",
      "3/3 [==============================] - 0s 11ms/step\n",
      "Epoch 1/5\n",
      "323/323 [==============================] - 3s 7ms/step - loss: 185.2203 - mean_absolute_error: 9.5705\n",
      "Epoch 2/5\n",
      "323/323 [==============================] - 2s 7ms/step - loss: 24.8397 - mean_absolute_error: 3.3343\n",
      "Epoch 3/5\n",
      "323/323 [==============================] - 2s 7ms/step - loss: 19.3503 - mean_absolute_error: 2.9355\n",
      "Epoch 4/5\n",
      "323/323 [==============================] - 2s 7ms/step - loss: 17.3214 - mean_absolute_error: 2.7769\n",
      "Epoch 5/5\n",
      "323/323 [==============================] - 2s 7ms/step - loss: 16.6433 - mean_absolute_error: 2.6413\n",
      "3/3 [==============================] - 0s 7ms/step\n",
      "Epoch 1/5\n",
      "323/323 [==============================] - 3s 7ms/step - loss: 99.9117 - mean_absolute_error: 6.7941\n",
      "Epoch 2/5\n",
      "323/323 [==============================] - 2s 7ms/step - loss: 19.6747 - mean_absolute_error: 2.8754\n",
      "Epoch 3/5\n",
      "323/323 [==============================] - 2s 7ms/step - loss: 15.9825 - mean_absolute_error: 2.6515\n",
      "Epoch 4/5\n",
      "323/323 [==============================] - 2s 7ms/step - loss: 16.2047 - mean_absolute_error: 2.7593\n",
      "Epoch 5/5\n",
      "323/323 [==============================] - 2s 7ms/step - loss: 15.7743 - mean_absolute_error: 2.5851\n",
      "3/3 [==============================] - 0s 9ms/step\n",
      "Epoch 1/5\n",
      "323/323 [==============================] - 3s 7ms/step - loss: 100.0952 - mean_absolute_error: 6.3716\n",
      "Epoch 2/5\n",
      "323/323 [==============================] - 2s 7ms/step - loss: 16.3663 - mean_absolute_error: 3.0139\n",
      "Epoch 3/5\n",
      "323/323 [==============================] - 2s 7ms/step - loss: 13.1827 - mean_absolute_error: 2.6121\n",
      "Epoch 4/5\n",
      "323/323 [==============================] - 2s 7ms/step - loss: 12.7406 - mean_absolute_error: 2.5869\n",
      "Epoch 5/5\n",
      "323/323 [==============================] - 2s 7ms/step - loss: 12.4737 - mean_absolute_error: 2.4683\n",
      "3/3 [==============================] - 0s 7ms/step\n",
      "Epoch 1/5\n",
      "324/324 [==============================] - 3s 7ms/step - loss: 106.4899 - mean_absolute_error: 6.8516\n",
      "Epoch 2/5\n",
      "324/324 [==============================] - 2s 7ms/step - loss: 17.2633 - mean_absolute_error: 3.1144\n",
      "Epoch 3/5\n",
      "324/324 [==============================] - 2s 7ms/step - loss: 15.3289 - mean_absolute_error: 2.7483\n",
      "Epoch 4/5\n",
      "324/324 [==============================] - 2s 7ms/step - loss: 13.5837 - mean_absolute_error: 2.7430\n",
      "Epoch 5/5\n",
      "324/324 [==============================] - 2s 7ms/step - loss: 11.8329 - mean_absolute_error: 2.5104\n",
      "WARNING:tensorflow:5 out of the last 13 calls to <function Model.make_predict_function.<locals>.predict_function at 0x292708ca0> triggered tf.function retracing. Tracing is expensive and the excessive number of tracings could be due to (1) creating @tf.function repeatedly in a loop, (2) passing tensors with different shapes, (3) passing Python objects instead of tensors. For (1), please define your @tf.function outside of the loop. For (2), @tf.function has reduce_retracing=True option that can avoid unnecessary retracing. For (3), please refer to https://www.tensorflow.org/guide/function#controlling_retracing and https://www.tensorflow.org/api_docs/python/tf/function for  more details.\n",
      "3/3 [==============================] - 0s 12ms/step\n"
     ]
    }
   ],
   "source": [
    "folds = KFold(n_splits=5, random_state=None)\n",
    "mae = []\n",
    " \n",
    "for id, idv in folds.split(train_x):\n",
    "  model = create_model()\n",
    "  xk_train, xk_valid = train_x[id,:], train_x[idv,:]\n",
    "  yk_train, yk_valid = train_y[id], train_y[idv]\n",
    "\n",
    "  model.fit(xk_train, yk_train, epochs=5, batch_size=1)\n",
    "  predict = model.predict(xk_valid).reshape(yk_valid.shape)\n",
    "    \n",
    "  mae.append(mean_absolute_error(yk_valid, predict))\n"
   ]
  },
  {
   "cell_type": "code",
   "execution_count": 16,
   "metadata": {},
   "outputs": [
    {
     "name": "stdout",
     "output_type": "stream",
     "text": [
      "folds' mae: \n",
      "[2.4024754, 2.6389174, 2.7718284, 3.3717327, 3.195421]\n"
     ]
    }
   ],
   "source": [
    "print('folds\\' mae: ')\n",
    "print([x.numpy() for x in mae])"
   ]
  },
  {
   "attachments": {},
   "cell_type": "markdown",
   "metadata": {},
   "source": [
    "### measuring with test data"
   ]
  },
  {
   "cell_type": "code",
   "execution_count": 18,
   "metadata": {},
   "outputs": [
    {
     "name": "stdout",
     "output_type": "stream",
     "text": [
      "Epoch 1/5\n",
      "404/404 [==============================] - 3s 7ms/step - loss: 81.9591 - mean_absolute_error: 5.8877\n",
      "Epoch 2/5\n",
      "404/404 [==============================] - 3s 7ms/step - loss: 18.9439 - mean_absolute_error: 2.9195\n",
      "Epoch 3/5\n",
      "404/404 [==============================] - 3s 7ms/step - loss: 15.4118 - mean_absolute_error: 2.6603\n",
      "Epoch 4/5\n",
      "404/404 [==============================] - 3s 7ms/step - loss: 14.6902 - mean_absolute_error: 2.5653\n",
      "Epoch 5/5\n",
      "404/404 [==============================] - 3s 7ms/step - loss: 13.8046 - mean_absolute_error: 2.5484\n",
      "4/4 [==============================] - 0s 13ms/step - loss: 28.1554 - mean_absolute_error: 3.9329\n",
      "MSE = 28.15542221069336, MAE: 3.932856321334839\n"
     ]
    }
   ],
   "source": [
    "model = create_model()\n",
    "model.fit(train_x, train_y, epochs=5, batch_size=1)\n",
    "mse, mae = model.evaluate(test_x, test_y)\n",
    "print(f\"MSE = {mse}, MAE: {mae}\")"
   ]
  },
  {
   "attachments": {},
   "cell_type": "markdown",
   "metadata": {},
   "source": [
    "# Classification Problem"
   ]
  },
  {
   "attachments": {},
   "cell_type": "markdown",
   "metadata": {},
   "source": [
    "### reading data"
   ]
  },
  {
   "cell_type": "code",
   "execution_count": 21,
   "metadata": {},
   "outputs": [
    {
     "name": "stdout",
     "output_type": "stream",
     "text": [
      "(699, 10)\n"
     ]
    },
    {
     "data": {
      "text/html": [
       "<div>\n",
       "<style scoped>\n",
       "    .dataframe tbody tr th:only-of-type {\n",
       "        vertical-align: middle;\n",
       "    }\n",
       "\n",
       "    .dataframe tbody tr th {\n",
       "        vertical-align: top;\n",
       "    }\n",
       "\n",
       "    .dataframe thead th {\n",
       "        text-align: right;\n",
       "    }\n",
       "</style>\n",
       "<table border=\"1\" class=\"dataframe\">\n",
       "  <thead>\n",
       "    <tr style=\"text-align: right;\">\n",
       "      <th></th>\n",
       "      <th>1</th>\n",
       "      <th>2</th>\n",
       "      <th>3</th>\n",
       "      <th>4</th>\n",
       "      <th>5</th>\n",
       "      <th>6</th>\n",
       "      <th>7</th>\n",
       "      <th>8</th>\n",
       "      <th>9</th>\n",
       "      <th>10</th>\n",
       "    </tr>\n",
       "  </thead>\n",
       "  <tbody>\n",
       "    <tr>\n",
       "      <th>0</th>\n",
       "      <td>5</td>\n",
       "      <td>1</td>\n",
       "      <td>1</td>\n",
       "      <td>1</td>\n",
       "      <td>2</td>\n",
       "      <td>1</td>\n",
       "      <td>3</td>\n",
       "      <td>1</td>\n",
       "      <td>1</td>\n",
       "      <td>2</td>\n",
       "    </tr>\n",
       "    <tr>\n",
       "      <th>1</th>\n",
       "      <td>5</td>\n",
       "      <td>4</td>\n",
       "      <td>4</td>\n",
       "      <td>5</td>\n",
       "      <td>7</td>\n",
       "      <td>10</td>\n",
       "      <td>3</td>\n",
       "      <td>2</td>\n",
       "      <td>1</td>\n",
       "      <td>2</td>\n",
       "    </tr>\n",
       "    <tr>\n",
       "      <th>2</th>\n",
       "      <td>3</td>\n",
       "      <td>1</td>\n",
       "      <td>1</td>\n",
       "      <td>1</td>\n",
       "      <td>2</td>\n",
       "      <td>2</td>\n",
       "      <td>3</td>\n",
       "      <td>1</td>\n",
       "      <td>1</td>\n",
       "      <td>2</td>\n",
       "    </tr>\n",
       "    <tr>\n",
       "      <th>3</th>\n",
       "      <td>6</td>\n",
       "      <td>8</td>\n",
       "      <td>8</td>\n",
       "      <td>1</td>\n",
       "      <td>3</td>\n",
       "      <td>4</td>\n",
       "      <td>3</td>\n",
       "      <td>7</td>\n",
       "      <td>1</td>\n",
       "      <td>2</td>\n",
       "    </tr>\n",
       "    <tr>\n",
       "      <th>4</th>\n",
       "      <td>4</td>\n",
       "      <td>1</td>\n",
       "      <td>1</td>\n",
       "      <td>3</td>\n",
       "      <td>2</td>\n",
       "      <td>1</td>\n",
       "      <td>3</td>\n",
       "      <td>1</td>\n",
       "      <td>1</td>\n",
       "      <td>2</td>\n",
       "    </tr>\n",
       "  </tbody>\n",
       "</table>\n",
       "</div>"
      ],
      "text/plain": [
       "   1  2  3  4  5   6  7  8  9  10\n",
       "0  5  1  1  1  2   1  3  1  1   2\n",
       "1  5  4  4  5  7  10  3  2  1   2\n",
       "2  3  1  1  1  2   2  3  1  1   2\n",
       "3  6  8  8  1  3   4  3  7  1   2\n",
       "4  4  1  1  3  2   1  3  1  1   2"
      ]
     },
     "execution_count": 21,
     "metadata": {},
     "output_type": "execute_result"
    }
   ],
   "source": [
    "df = pd.read_csv('./breast-cancerData.csv', delimiter=',')\n",
    "df.drop(columns='0', axis=1, inplace=True)\n",
    "print(df.shape)\n",
    "df.head(5)"
   ]
  },
  {
   "cell_type": "code",
   "execution_count": 22,
   "metadata": {},
   "outputs": [
    {
     "data": {
      "text/html": [
       "<div>\n",
       "<style scoped>\n",
       "    .dataframe tbody tr th:only-of-type {\n",
       "        vertical-align: middle;\n",
       "    }\n",
       "\n",
       "    .dataframe tbody tr th {\n",
       "        vertical-align: top;\n",
       "    }\n",
       "\n",
       "    .dataframe thead th {\n",
       "        text-align: right;\n",
       "    }\n",
       "</style>\n",
       "<table border=\"1\" class=\"dataframe\">\n",
       "  <thead>\n",
       "    <tr style=\"text-align: right;\">\n",
       "      <th></th>\n",
       "      <th>1</th>\n",
       "      <th>2</th>\n",
       "      <th>3</th>\n",
       "      <th>4</th>\n",
       "      <th>5</th>\n",
       "      <th>6</th>\n",
       "      <th>7</th>\n",
       "      <th>8</th>\n",
       "      <th>9</th>\n",
       "    </tr>\n",
       "  </thead>\n",
       "  <tbody>\n",
       "    <tr>\n",
       "      <th>0</th>\n",
       "      <td>5</td>\n",
       "      <td>1</td>\n",
       "      <td>1</td>\n",
       "      <td>1</td>\n",
       "      <td>2</td>\n",
       "      <td>1</td>\n",
       "      <td>3</td>\n",
       "      <td>1</td>\n",
       "      <td>1</td>\n",
       "    </tr>\n",
       "    <tr>\n",
       "      <th>1</th>\n",
       "      <td>5</td>\n",
       "      <td>4</td>\n",
       "      <td>4</td>\n",
       "      <td>5</td>\n",
       "      <td>7</td>\n",
       "      <td>10</td>\n",
       "      <td>3</td>\n",
       "      <td>2</td>\n",
       "      <td>1</td>\n",
       "    </tr>\n",
       "    <tr>\n",
       "      <th>2</th>\n",
       "      <td>3</td>\n",
       "      <td>1</td>\n",
       "      <td>1</td>\n",
       "      <td>1</td>\n",
       "      <td>2</td>\n",
       "      <td>2</td>\n",
       "      <td>3</td>\n",
       "      <td>1</td>\n",
       "      <td>1</td>\n",
       "    </tr>\n",
       "    <tr>\n",
       "      <th>3</th>\n",
       "      <td>6</td>\n",
       "      <td>8</td>\n",
       "      <td>8</td>\n",
       "      <td>1</td>\n",
       "      <td>3</td>\n",
       "      <td>4</td>\n",
       "      <td>3</td>\n",
       "      <td>7</td>\n",
       "      <td>1</td>\n",
       "    </tr>\n",
       "    <tr>\n",
       "      <th>4</th>\n",
       "      <td>4</td>\n",
       "      <td>1</td>\n",
       "      <td>1</td>\n",
       "      <td>3</td>\n",
       "      <td>2</td>\n",
       "      <td>1</td>\n",
       "      <td>3</td>\n",
       "      <td>1</td>\n",
       "      <td>1</td>\n",
       "    </tr>\n",
       "  </tbody>\n",
       "</table>\n",
       "</div>"
      ],
      "text/plain": [
       "   1  2  3  4  5   6  7  8  9\n",
       "0  5  1  1  1  2   1  3  1  1\n",
       "1  5  4  4  5  7  10  3  2  1\n",
       "2  3  1  1  1  2   2  3  1  1\n",
       "3  6  8  8  1  3   4  3  7  1\n",
       "4  4  1  1  3  2   1  3  1  1"
      ]
     },
     "execution_count": 22,
     "metadata": {},
     "output_type": "execute_result"
    }
   ],
   "source": [
    "x = df.iloc[:, :-1]\n",
    "y = df.iloc[:, -1]\n",
    "x.head(5)"
   ]
  },
  {
   "cell_type": "code",
   "execution_count": 23,
   "metadata": {},
   "outputs": [],
   "source": [
    "y = y.replace(y.unique(), [0, 1]);"
   ]
  },
  {
   "attachments": {},
   "cell_type": "markdown",
   "metadata": {},
   "source": [
    "### seperating test and train"
   ]
  },
  {
   "cell_type": "code",
   "execution_count": 24,
   "metadata": {},
   "outputs": [],
   "source": [
    "from sklearn.model_selection import train_test_split\n",
    "train_x, test_x, train_y, test_y = train_test_split(x, y, test_size=0.33)\n"
   ]
  },
  {
   "attachments": {},
   "cell_type": "markdown",
   "metadata": {},
   "source": [
    "### Normalizing Data"
   ]
  },
  {
   "cell_type": "code",
   "execution_count": 25,
   "metadata": {},
   "outputs": [
    {
     "data": {
      "text/html": [
       "<div>\n",
       "<style scoped>\n",
       "    .dataframe tbody tr th:only-of-type {\n",
       "        vertical-align: middle;\n",
       "    }\n",
       "\n",
       "    .dataframe tbody tr th {\n",
       "        vertical-align: top;\n",
       "    }\n",
       "\n",
       "    .dataframe thead th {\n",
       "        text-align: right;\n",
       "    }\n",
       "</style>\n",
       "<table border=\"1\" class=\"dataframe\">\n",
       "  <thead>\n",
       "    <tr style=\"text-align: right;\">\n",
       "      <th></th>\n",
       "      <th>1</th>\n",
       "      <th>2</th>\n",
       "      <th>3</th>\n",
       "      <th>4</th>\n",
       "      <th>5</th>\n",
       "      <th>6</th>\n",
       "      <th>7</th>\n",
       "      <th>8</th>\n",
       "      <th>9</th>\n",
       "    </tr>\n",
       "  </thead>\n",
       "  <tbody>\n",
       "    <tr>\n",
       "      <th>578</th>\n",
       "      <td>-1.180286</td>\n",
       "      <td>-0.663409</td>\n",
       "      <td>-0.716436</td>\n",
       "      <td>-0.614584</td>\n",
       "      <td>-0.535711</td>\n",
       "      <td>0.131552</td>\n",
       "      <td>-0.572983</td>\n",
       "      <td>-0.581175</td>\n",
       "      <td>-0.328084</td>\n",
       "    </tr>\n",
       "    <tr>\n",
       "      <th>440</th>\n",
       "      <td>2.031189</td>\n",
       "      <td>0.354543</td>\n",
       "      <td>-0.020809</td>\n",
       "      <td>2.585202</td>\n",
       "      <td>0.359692</td>\n",
       "      <td>0.132246</td>\n",
       "      <td>2.843020</td>\n",
       "      <td>-0.581175</td>\n",
       "      <td>-0.328084</td>\n",
       "    </tr>\n",
       "    <tr>\n",
       "      <th>124</th>\n",
       "      <td>0.247037</td>\n",
       "      <td>0.354543</td>\n",
       "      <td>1.022631</td>\n",
       "      <td>1.518607</td>\n",
       "      <td>2.598199</td>\n",
       "      <td>0.132015</td>\n",
       "      <td>1.989019</td>\n",
       "      <td>2.509620</td>\n",
       "      <td>-0.328084</td>\n",
       "    </tr>\n",
       "    <tr>\n",
       "      <th>491</th>\n",
       "      <td>0.247037</td>\n",
       "      <td>1.711814</td>\n",
       "      <td>2.066072</td>\n",
       "      <td>0.452012</td>\n",
       "      <td>-0.088010</td>\n",
       "      <td>0.132246</td>\n",
       "      <td>1.562019</td>\n",
       "      <td>-0.581175</td>\n",
       "      <td>-0.328084</td>\n",
       "    </tr>\n",
       "    <tr>\n",
       "      <th>498</th>\n",
       "      <td>-0.109794</td>\n",
       "      <td>-0.663409</td>\n",
       "      <td>-0.716436</td>\n",
       "      <td>-0.614584</td>\n",
       "      <td>-0.535711</td>\n",
       "      <td>0.131552</td>\n",
       "      <td>-0.572983</td>\n",
       "      <td>-0.581175</td>\n",
       "      <td>-0.328084</td>\n",
       "    </tr>\n",
       "  </tbody>\n",
       "</table>\n",
       "</div>"
      ],
      "text/plain": [
       "            1         2         3         4         5         6         7  \\\n",
       "578 -1.180286 -0.663409 -0.716436 -0.614584 -0.535711  0.131552 -0.572983   \n",
       "440  2.031189  0.354543 -0.020809  2.585202  0.359692  0.132246  2.843020   \n",
       "124  0.247037  0.354543  1.022631  1.518607  2.598199  0.132015  1.989019   \n",
       "491  0.247037  1.711814  2.066072  0.452012 -0.088010  0.132246  1.562019   \n",
       "498 -0.109794 -0.663409 -0.716436 -0.614584 -0.535711  0.131552 -0.572983   \n",
       "\n",
       "            8         9  \n",
       "578 -0.581175 -0.328084  \n",
       "440 -0.581175 -0.328084  \n",
       "124  2.509620 -0.328084  \n",
       "491 -0.581175 -0.328084  \n",
       "498 -0.581175 -0.328084  "
      ]
     },
     "execution_count": 25,
     "metadata": {},
     "output_type": "execute_result"
    }
   ],
   "source": [
    "train_x = (train_x - train_x.mean(0)) / train_x.std(0)\n",
    "test_x = (test_x - test_x.mean(0)) / test_x.std(0)\n",
    "train_x.head()"
   ]
  },
  {
   "attachments": {},
   "cell_type": "markdown",
   "metadata": {},
   "source": [
    "## MLP"
   ]
  },
  {
   "cell_type": "code",
   "execution_count": 26,
   "metadata": {},
   "outputs": [],
   "source": [
    "def create_model():\n",
    "  model = models.Sequential()\n",
    "  model.add(layers.Dense(256, activation='relu', input_shape=(9,)))\n",
    "  model.add(layers.Dense(64, activation='relu'))\n",
    "  model.add(layers.Dense(16, activation='relu'))\n",
    "  model.add(layers.Dense(16, activation='relu'))\n",
    "  model.add(layers.Dense(1, activation='sigmoid'))\n",
    "\n",
    "  sgd = SGD(learning_rate=0.008)\n",
    "  model.compile(optimizer=sgd, loss='binary_crossentropy', metrics=['accuracy'])\n",
    "  return model"
   ]
  },
  {
   "cell_type": "code",
   "execution_count": 27,
   "metadata": {},
   "outputs": [],
   "source": [
    "x_valid = train_x[:200]\n",
    "xk_train = train_x[200:]\n",
    "\n",
    "y_valid = train_y[:200]\n",
    "yk_train = train_y[200:]"
   ]
  },
  {
   "cell_type": "code",
   "execution_count": 28,
   "metadata": {},
   "outputs": [
    {
     "name": "stdout",
     "output_type": "stream",
     "text": [
      "Epoch 1/55\n",
      "268/268 [==============================] - 3s 9ms/step - loss: 0.4810 - accuracy: 0.8582 - val_loss: 0.2359 - val_accuracy: 0.9600\n",
      "Epoch 2/55\n",
      "268/268 [==============================] - 2s 8ms/step - loss: 0.1738 - accuracy: 0.9478 - val_loss: 0.1007 - val_accuracy: 0.9650\n",
      "Epoch 3/55\n",
      "268/268 [==============================] - 2s 8ms/step - loss: 0.1256 - accuracy: 0.9590 - val_loss: 0.0801 - val_accuracy: 0.9700\n",
      "Epoch 4/55\n",
      "268/268 [==============================] - 2s 8ms/step - loss: 0.1113 - accuracy: 0.9627 - val_loss: 0.0733 - val_accuracy: 0.9700\n",
      "Epoch 5/55\n",
      "268/268 [==============================] - 2s 8ms/step - loss: 0.1055 - accuracy: 0.9627 - val_loss: 0.0721 - val_accuracy: 0.9750\n",
      "Epoch 6/55\n",
      "268/268 [==============================] - 2s 8ms/step - loss: 0.1021 - accuracy: 0.9627 - val_loss: 0.0688 - val_accuracy: 0.9750\n",
      "Epoch 7/55\n",
      "268/268 [==============================] - 2s 8ms/step - loss: 0.0966 - accuracy: 0.9664 - val_loss: 0.0692 - val_accuracy: 0.9700\n",
      "Epoch 8/55\n",
      "268/268 [==============================] - 2s 8ms/step - loss: 0.0943 - accuracy: 0.9627 - val_loss: 0.0691 - val_accuracy: 0.9800\n",
      "Epoch 9/55\n",
      "268/268 [==============================] - 2s 8ms/step - loss: 0.0893 - accuracy: 0.9701 - val_loss: 0.0698 - val_accuracy: 0.9750\n",
      "Epoch 10/55\n",
      "268/268 [==============================] - 2s 8ms/step - loss: 0.0878 - accuracy: 0.9701 - val_loss: 0.0667 - val_accuracy: 0.9800\n",
      "Epoch 11/55\n",
      "268/268 [==============================] - 2s 8ms/step - loss: 0.0837 - accuracy: 0.9627 - val_loss: 0.0688 - val_accuracy: 0.9700\n",
      "Epoch 12/55\n",
      "268/268 [==============================] - 2s 8ms/step - loss: 0.0830 - accuracy: 0.9701 - val_loss: 0.0680 - val_accuracy: 0.9750\n",
      "Epoch 13/55\n",
      "268/268 [==============================] - 2s 8ms/step - loss: 0.0797 - accuracy: 0.9739 - val_loss: 0.0708 - val_accuracy: 0.9800\n",
      "Epoch 14/55\n",
      "268/268 [==============================] - 2s 8ms/step - loss: 0.0758 - accuracy: 0.9776 - val_loss: 0.0670 - val_accuracy: 0.9800\n",
      "Epoch 15/55\n",
      "268/268 [==============================] - 2s 8ms/step - loss: 0.0775 - accuracy: 0.9739 - val_loss: 0.0662 - val_accuracy: 0.9800\n",
      "Epoch 16/55\n",
      "268/268 [==============================] - 2s 8ms/step - loss: 0.0738 - accuracy: 0.9776 - val_loss: 0.0669 - val_accuracy: 0.9800\n",
      "Epoch 17/55\n",
      "268/268 [==============================] - 2s 8ms/step - loss: 0.0700 - accuracy: 0.9776 - val_loss: 0.0685 - val_accuracy: 0.9800\n",
      "Epoch 18/55\n",
      "268/268 [==============================] - 2s 8ms/step - loss: 0.0692 - accuracy: 0.9813 - val_loss: 0.0692 - val_accuracy: 0.9750\n",
      "Epoch 19/55\n",
      "268/268 [==============================] - 2s 8ms/step - loss: 0.0696 - accuracy: 0.9739 - val_loss: 0.0694 - val_accuracy: 0.9800\n",
      "Epoch 20/55\n",
      "268/268 [==============================] - 2s 8ms/step - loss: 0.0635 - accuracy: 0.9813 - val_loss: 0.0749 - val_accuracy: 0.9700\n",
      "Epoch 21/55\n",
      "268/268 [==============================] - 2s 8ms/step - loss: 0.0645 - accuracy: 0.9739 - val_loss: 0.0732 - val_accuracy: 0.9750\n",
      "Epoch 22/55\n",
      "268/268 [==============================] - 2s 8ms/step - loss: 0.0621 - accuracy: 0.9888 - val_loss: 0.0718 - val_accuracy: 0.9800\n",
      "Epoch 23/55\n",
      "268/268 [==============================] - 2s 8ms/step - loss: 0.0589 - accuracy: 0.9851 - val_loss: 0.0731 - val_accuracy: 0.9750\n",
      "Epoch 24/55\n",
      "268/268 [==============================] - 2s 8ms/step - loss: 0.0569 - accuracy: 0.9813 - val_loss: 0.0741 - val_accuracy: 0.9750\n",
      "Epoch 25/55\n",
      "268/268 [==============================] - 2s 8ms/step - loss: 0.0581 - accuracy: 0.9851 - val_loss: 0.0760 - val_accuracy: 0.9750\n",
      "Epoch 26/55\n",
      "268/268 [==============================] - 2s 8ms/step - loss: 0.0554 - accuracy: 0.9813 - val_loss: 0.0748 - val_accuracy: 0.9750\n",
      "Epoch 27/55\n",
      "268/268 [==============================] - 2s 8ms/step - loss: 0.0549 - accuracy: 0.9813 - val_loss: 0.0763 - val_accuracy: 0.9750\n",
      "Epoch 28/55\n",
      "268/268 [==============================] - 2s 9ms/step - loss: 0.0514 - accuracy: 0.9851 - val_loss: 0.0787 - val_accuracy: 0.9750\n",
      "Epoch 29/55\n",
      "268/268 [==============================] - 2s 8ms/step - loss: 0.0515 - accuracy: 0.9851 - val_loss: 0.0786 - val_accuracy: 0.9800\n",
      "Epoch 30/55\n",
      "268/268 [==============================] - 2s 8ms/step - loss: 0.0473 - accuracy: 0.9888 - val_loss: 0.0823 - val_accuracy: 0.9700\n",
      "Epoch 31/55\n",
      "268/268 [==============================] - 2s 8ms/step - loss: 0.0459 - accuracy: 0.9888 - val_loss: 0.0825 - val_accuracy: 0.9750\n",
      "Epoch 32/55\n",
      "268/268 [==============================] - 2s 8ms/step - loss: 0.0428 - accuracy: 0.9925 - val_loss: 0.0880 - val_accuracy: 0.9700\n",
      "Epoch 33/55\n",
      "268/268 [==============================] - 2s 8ms/step - loss: 0.0411 - accuracy: 0.9925 - val_loss: 0.0892 - val_accuracy: 0.9700\n",
      "Epoch 34/55\n",
      "268/268 [==============================] - 2s 8ms/step - loss: 0.0410 - accuracy: 0.9888 - val_loss: 0.0885 - val_accuracy: 0.9750\n",
      "Epoch 35/55\n",
      "268/268 [==============================] - 2s 8ms/step - loss: 0.0415 - accuracy: 0.9888 - val_loss: 0.0888 - val_accuracy: 0.9750\n",
      "Epoch 36/55\n",
      "268/268 [==============================] - 2s 8ms/step - loss: 0.0388 - accuracy: 0.9851 - val_loss: 0.0925 - val_accuracy: 0.9750\n",
      "Epoch 37/55\n",
      "268/268 [==============================] - 2s 8ms/step - loss: 0.0322 - accuracy: 0.9925 - val_loss: 0.0959 - val_accuracy: 0.9650\n",
      "Epoch 38/55\n",
      "268/268 [==============================] - 2s 8ms/step - loss: 0.0345 - accuracy: 0.9888 - val_loss: 0.0946 - val_accuracy: 0.9650\n",
      "Epoch 39/55\n",
      "268/268 [==============================] - 2s 8ms/step - loss: 0.0315 - accuracy: 0.9925 - val_loss: 0.0925 - val_accuracy: 0.9750\n",
      "Epoch 40/55\n",
      "268/268 [==============================] - 2s 8ms/step - loss: 0.0313 - accuracy: 0.9851 - val_loss: 0.0917 - val_accuracy: 0.9700\n",
      "Epoch 41/55\n",
      "268/268 [==============================] - 2s 8ms/step - loss: 0.0464 - accuracy: 0.9851 - val_loss: 0.0959 - val_accuracy: 0.9750\n",
      "Epoch 42/55\n",
      "268/268 [==============================] - 2s 8ms/step - loss: 0.0319 - accuracy: 0.9888 - val_loss: 0.1150 - val_accuracy: 0.9550\n",
      "Epoch 43/55\n",
      "268/268 [==============================] - 2s 8ms/step - loss: 0.0308 - accuracy: 0.9925 - val_loss: 0.1028 - val_accuracy: 0.9650\n",
      "Epoch 44/55\n",
      "268/268 [==============================] - 2s 8ms/step - loss: 0.0346 - accuracy: 0.9888 - val_loss: 0.1007 - val_accuracy: 0.9750\n",
      "Epoch 45/55\n",
      "268/268 [==============================] - 2s 8ms/step - loss: 0.0319 - accuracy: 0.9888 - val_loss: 0.0933 - val_accuracy: 0.9750\n",
      "Epoch 46/55\n",
      "268/268 [==============================] - 2s 8ms/step - loss: 0.0283 - accuracy: 0.9925 - val_loss: 0.1045 - val_accuracy: 0.9750\n",
      "Epoch 47/55\n",
      "268/268 [==============================] - 2s 8ms/step - loss: 0.0216 - accuracy: 0.9963 - val_loss: 0.1034 - val_accuracy: 0.9750\n",
      "Epoch 48/55\n",
      "268/268 [==============================] - 2s 8ms/step - loss: 0.0199 - accuracy: 0.9925 - val_loss: 0.1012 - val_accuracy: 0.9750\n",
      "Epoch 49/55\n",
      "268/268 [==============================] - 2s 8ms/step - loss: 0.0200 - accuracy: 0.9963 - val_loss: 0.1029 - val_accuracy: 0.9750\n",
      "Epoch 50/55\n",
      "268/268 [==============================] - 2s 8ms/step - loss: 0.0180 - accuracy: 0.9963 - val_loss: 0.1123 - val_accuracy: 0.9700\n",
      "Epoch 51/55\n",
      "268/268 [==============================] - 2s 8ms/step - loss: 0.0186 - accuracy: 0.9963 - val_loss: 0.1067 - val_accuracy: 0.9750\n",
      "Epoch 52/55\n",
      "268/268 [==============================] - 2s 8ms/step - loss: 0.0164 - accuracy: 0.9963 - val_loss: 0.1060 - val_accuracy: 0.9750\n",
      "Epoch 53/55\n",
      "268/268 [==============================] - 2s 8ms/step - loss: 0.0174 - accuracy: 0.9963 - val_loss: 0.1080 - val_accuracy: 0.9750\n",
      "Epoch 54/55\n",
      "268/268 [==============================] - 2s 8ms/step - loss: 0.0155 - accuracy: 0.9963 - val_loss: 0.1144 - val_accuracy: 0.9750\n",
      "Epoch 55/55\n",
      "268/268 [==============================] - 2s 8ms/step - loss: 0.0138 - accuracy: 0.9963 - val_loss: 0.1110 - val_accuracy: 0.9750\n"
     ]
    }
   ],
   "source": [
    "model = create_model()\n",
    "epochs = 55\n",
    "history = model.fit(xk_train, yk_train, epochs=epochs, batch_size=1, validation_data=(x_valid, y_valid))\n",
    "history = history.history"
   ]
  },
  {
   "cell_type": "code",
   "execution_count": 29,
   "metadata": {},
   "outputs": [
    {
     "data": {
      "image/png": "[encoded data removed]",
      "text/plain": [
       "<Figure size 640x480 with 1 Axes>"
      ]
     },
     "metadata": {},
     "output_type": "display_data"
    }
   ],
   "source": [
    "plt.plot(np.arange(1, epochs + 1), history['loss'], 'ro', label = \"Training loss\")\n",
    "plt.plot(np.arange(1, epochs + 1), history['val_loss'], 'b', label = \"Validation loss\")\n",
    "plt.title(\"Train vs Validation\")\n",
    "plt.xlabel(\"Epochs\")\n",
    "plt.ylabel(\"Loss\")\n",
    "plt.legend()\n",
    "plt.show()"
   ]
  },
  {
   "cell_type": "code",
   "execution_count": 30,
   "metadata": {},
   "outputs": [
    {
     "data": {
      "image/png": "[encoded data removed]",
      "text/plain": [
       "<Figure size 640x480 with 1 Axes>"
      ]
     },
     "metadata": {},
     "output_type": "display_data"
    }
   ],
   "source": [
    "plt.plot(np.arange(1, epochs + 1), history['accuracy'], 'ro', label = \"Training accuracy\")\n",
    "plt.plot(np.arange(1, epochs + 1), history['val_accuracy'], 'b', label = \"Validation accuracy\")\n",
    "plt.title(\"Train vs Validation\")\n",
    "plt.xlabel(\"Epochs\")\n",
    "plt.ylabel(\"Accuracy\")\n",
    "plt.legend()\n",
    "plt.show()"
   ]
  },
  {
   "attachments": {},
   "cell_type": "markdown",
   "metadata": {},
   "source": [
    "4 epochs is the optimal number of epochs"
   ]
  },
  {
   "cell_type": "code",
   "execution_count": 31,
   "metadata": {},
   "outputs": [
    {
     "name": "stdout",
     "output_type": "stream",
     "text": [
      "Epoch 1/4\n",
      "468/468 [==============================] - 3s 6ms/step - loss: 0.2797 - accuracy: 0.9509\n",
      "Epoch 2/4\n",
      "468/468 [==============================] - 3s 6ms/step - loss: 0.1087 - accuracy: 0.9658\n",
      "Epoch 3/4\n",
      "468/468 [==============================] - 3s 7ms/step - loss: 0.0916 - accuracy: 0.9637\n",
      "Epoch 4/4\n",
      "468/468 [==============================] - 3s 6ms/step - loss: 0.0808 - accuracy: 0.9722\n",
      "8/8 [==============================] - 0s 17ms/step - loss: 0.1101 - accuracy: 0.9567\n",
      "MSE = 0.11008329689502716, MAE: 0.9567099809646606\n"
     ]
    }
   ],
   "source": [
    "model = create_model()\n",
    "model.fit(train_x, train_y, epochs=4, batch_size=1)\n",
    "mse, mae = model.evaluate(test_x, test_y)\n",
    "print(f\"MSE = {mse}, MAE: {mae}\")"
   ]
  },
  {
   "attachments": {},
   "cell_type": "markdown",
   "metadata": {},
   "source": [
    "## Regularization"
   ]
  },
  {
   "cell_type": "code",
   "execution_count": 33,
   "metadata": {},
   "outputs": [],
   "source": [
    "def create_model():\n",
    "  model = models.Sequential()\n",
    "  model.add(layers.Dense(256, kernel_regularizer=regularizers.l1(0.001), activation='relu', input_shape=(9,)))\n",
    "  model.add(layers.Dense(64, kernel_regularizer=regularizers.l1(0.001), activation='relu'))\n",
    "  model.add(layers.Dense(16, kernel_regularizer=regularizers.l1(0.001), activation='relu'))\n",
    "  model.add(layers.Dense(16, kernel_regularizer=regularizers.l1(0.001), activation='relu'))\n",
    "  model.add(layers.Dense(1, activation='sigmoid'))\n",
    "\n",
    "  sgd = SGD(learning_rate=0.008)\n",
    "  model.compile(optimizer=sgd, loss='binary_crossentropy', metrics=['accuracy'])\n",
    "  return model"
   ]
  },
  {
   "cell_type": "code",
   "execution_count": 34,
   "metadata": {},
   "outputs": [
    {
     "name": "stdout",
     "output_type": "stream",
     "text": [
      "Epoch 1/55\n",
      "268/268 [==============================] - 3s 10ms/step - loss: 1.9465 - accuracy: 0.8396 - val_loss: 1.6695 - val_accuracy: 0.9750\n",
      "Epoch 2/55\n",
      "268/268 [==============================] - 3s 10ms/step - loss: 1.5838 - accuracy: 0.9552 - val_loss: 1.5004 - val_accuracy: 0.9700\n",
      "Epoch 3/55\n",
      "268/268 [==============================] - 3s 10ms/step - loss: 1.4988 - accuracy: 0.9664 - val_loss: 1.4441 - val_accuracy: 0.9800\n",
      "Epoch 4/55\n",
      "268/268 [==============================] - 2s 9ms/step - loss: 1.4503 - accuracy: 0.9627 - val_loss: 1.3991 - val_accuracy: 0.9750\n",
      "Epoch 5/55\n",
      "268/268 [==============================] - 2s 9ms/step - loss: 1.4077 - accuracy: 0.9627 - val_loss: 1.3577 - val_accuracy: 0.9800\n",
      "Epoch 6/55\n",
      "268/268 [==============================] - 2s 9ms/step - loss: 1.3675 - accuracy: 0.9627 - val_loss: 1.3208 - val_accuracy: 0.9750\n",
      "Epoch 7/55\n",
      "268/268 [==============================] - 2s 9ms/step - loss: 1.3284 - accuracy: 0.9664 - val_loss: 1.2842 - val_accuracy: 0.9800\n",
      "Epoch 8/55\n",
      "268/268 [==============================] - 2s 9ms/step - loss: 1.2886 - accuracy: 0.9701 - val_loss: 1.2473 - val_accuracy: 0.9800\n",
      "Epoch 9/55\n",
      "268/268 [==============================] - 2s 9ms/step - loss: 1.2499 - accuracy: 0.9664 - val_loss: 1.2126 - val_accuracy: 0.9800\n",
      "Epoch 10/55\n",
      "268/268 [==============================] - 2s 9ms/step - loss: 1.2142 - accuracy: 0.9664 - val_loss: 1.1774 - val_accuracy: 0.9800\n",
      "Epoch 11/55\n",
      "268/268 [==============================] - 2s 9ms/step - loss: 1.1780 - accuracy: 0.9627 - val_loss: 1.1443 - val_accuracy: 0.9800\n",
      "Epoch 12/55\n",
      "268/268 [==============================] - 2s 9ms/step - loss: 1.1412 - accuracy: 0.9664 - val_loss: 1.1087 - val_accuracy: 0.9800\n",
      "Epoch 13/55\n",
      "268/268 [==============================] - 2s 9ms/step - loss: 1.1048 - accuracy: 0.9739 - val_loss: 1.0843 - val_accuracy: 0.9750\n",
      "Epoch 14/55\n",
      "268/268 [==============================] - 2s 9ms/step - loss: 1.0737 - accuracy: 0.9664 - val_loss: 1.0466 - val_accuracy: 0.9800\n",
      "Epoch 15/55\n",
      "268/268 [==============================] - 2s 9ms/step - loss: 1.0366 - accuracy: 0.9701 - val_loss: 1.0150 - val_accuracy: 0.9650\n",
      "Epoch 16/55\n",
      "268/268 [==============================] - 2s 9ms/step - loss: 1.0080 - accuracy: 0.9739 - val_loss: 0.9845 - val_accuracy: 0.9800\n",
      "Epoch 17/55\n",
      "268/268 [==============================] - 2s 9ms/step - loss: 0.9734 - accuracy: 0.9701 - val_loss: 0.9541 - val_accuracy: 0.9800\n",
      "Epoch 18/55\n",
      "268/268 [==============================] - 2s 9ms/step - loss: 0.9438 - accuracy: 0.9701 - val_loss: 0.9261 - val_accuracy: 0.9800\n",
      "Epoch 19/55\n",
      "268/268 [==============================] - 2s 9ms/step - loss: 0.9121 - accuracy: 0.9813 - val_loss: 0.8957 - val_accuracy: 0.9800\n",
      "Epoch 20/55\n",
      "268/268 [==============================] - 2s 9ms/step - loss: 0.8829 - accuracy: 0.9739 - val_loss: 0.8672 - val_accuracy: 0.9700\n",
      "Epoch 21/55\n",
      "268/268 [==============================] - 2s 9ms/step - loss: 0.8528 - accuracy: 0.9739 - val_loss: 0.8428 - val_accuracy: 0.9800\n",
      "Epoch 22/55\n",
      "268/268 [==============================] - 2s 9ms/step - loss: 0.8253 - accuracy: 0.9701 - val_loss: 0.8138 - val_accuracy: 0.9700\n",
      "Epoch 23/55\n",
      "268/268 [==============================] - 2s 9ms/step - loss: 0.7971 - accuracy: 0.9739 - val_loss: 0.7874 - val_accuracy: 0.9750\n",
      "Epoch 24/55\n",
      "268/268 [==============================] - 2s 9ms/step - loss: 0.7714 - accuracy: 0.9701 - val_loss: 0.7624 - val_accuracy: 0.9750\n",
      "Epoch 25/55\n",
      "268/268 [==============================] - 2s 9ms/step - loss: 0.7454 - accuracy: 0.9776 - val_loss: 0.7374 - val_accuracy: 0.9750\n",
      "Epoch 26/55\n",
      "268/268 [==============================] - 2s 9ms/step - loss: 0.7175 - accuracy: 0.9739 - val_loss: 0.7179 - val_accuracy: 0.9650\n",
      "Epoch 27/55\n",
      "268/268 [==============================] - 2s 9ms/step - loss: 0.6895 - accuracy: 0.9813 - val_loss: 0.6935 - val_accuracy: 0.9700\n",
      "Epoch 28/55\n",
      "268/268 [==============================] - 2s 9ms/step - loss: 0.6685 - accuracy: 0.9776 - val_loss: 0.6768 - val_accuracy: 0.9800\n",
      "Epoch 29/55\n",
      "268/268 [==============================] - 2s 9ms/step - loss: 0.6477 - accuracy: 0.9701 - val_loss: 0.6500 - val_accuracy: 0.9750\n",
      "Epoch 30/55\n",
      "268/268 [==============================] - 2s 9ms/step - loss: 0.6253 - accuracy: 0.9776 - val_loss: 0.6234 - val_accuracy: 0.9750\n",
      "Epoch 31/55\n",
      "268/268 [==============================] - 2s 9ms/step - loss: 0.6000 - accuracy: 0.9813 - val_loss: 0.6079 - val_accuracy: 0.9800\n",
      "Epoch 32/55\n",
      "268/268 [==============================] - 2s 9ms/step - loss: 0.5792 - accuracy: 0.9739 - val_loss: 0.5834 - val_accuracy: 0.9700\n",
      "Epoch 33/55\n",
      "268/268 [==============================] - 2s 9ms/step - loss: 0.5562 - accuracy: 0.9739 - val_loss: 0.5701 - val_accuracy: 0.9600\n",
      "Epoch 34/55\n",
      "268/268 [==============================] - 2s 9ms/step - loss: 0.5408 - accuracy: 0.9813 - val_loss: 0.5479 - val_accuracy: 0.9750\n",
      "Epoch 35/55\n",
      "268/268 [==============================] - 2s 9ms/step - loss: 0.5197 - accuracy: 0.9739 - val_loss: 0.5282 - val_accuracy: 0.9750\n",
      "Epoch 36/55\n",
      "268/268 [==============================] - 2s 9ms/step - loss: 0.4996 - accuracy: 0.9701 - val_loss: 0.5084 - val_accuracy: 0.9750\n",
      "Epoch 37/55\n",
      "268/268 [==============================] - 2s 9ms/step - loss: 0.4826 - accuracy: 0.9701 - val_loss: 0.4919 - val_accuracy: 0.9650\n",
      "Epoch 38/55\n",
      "268/268 [==============================] - 2s 9ms/step - loss: 0.4602 - accuracy: 0.9739 - val_loss: 0.4760 - val_accuracy: 0.9750\n",
      "Epoch 39/55\n",
      "268/268 [==============================] - 2s 9ms/step - loss: 0.4478 - accuracy: 0.9776 - val_loss: 0.4650 - val_accuracy: 0.9750\n",
      "Epoch 40/55\n",
      "268/268 [==============================] - 2s 9ms/step - loss: 0.4229 - accuracy: 0.9813 - val_loss: 0.4557 - val_accuracy: 0.9600\n",
      "Epoch 41/55\n",
      "268/268 [==============================] - 2s 9ms/step - loss: 0.4165 - accuracy: 0.9776 - val_loss: 0.4333 - val_accuracy: 0.9650\n",
      "Epoch 42/55\n",
      "268/268 [==============================] - 2s 9ms/step - loss: 0.3973 - accuracy: 0.9813 - val_loss: 0.4224 - val_accuracy: 0.9750\n",
      "Epoch 43/55\n",
      "268/268 [==============================] - 2s 9ms/step - loss: 0.3852 - accuracy: 0.9739 - val_loss: 0.4042 - val_accuracy: 0.9650\n",
      "Epoch 44/55\n",
      "268/268 [==============================] - 3s 10ms/step - loss: 0.3697 - accuracy: 0.9739 - val_loss: 0.3917 - val_accuracy: 0.9650\n",
      "Epoch 45/55\n",
      "268/268 [==============================] - 2s 9ms/step - loss: 0.3567 - accuracy: 0.9739 - val_loss: 0.3826 - val_accuracy: 0.9750\n",
      "Epoch 46/55\n",
      "268/268 [==============================] - 2s 9ms/step - loss: 0.3426 - accuracy: 0.9813 - val_loss: 0.3705 - val_accuracy: 0.9650\n",
      "Epoch 47/55\n",
      "268/268 [==============================] - 2s 9ms/step - loss: 0.3290 - accuracy: 0.9813 - val_loss: 0.3589 - val_accuracy: 0.9650\n",
      "Epoch 48/55\n",
      "268/268 [==============================] - 3s 9ms/step - loss: 0.3189 - accuracy: 0.9851 - val_loss: 0.3494 - val_accuracy: 0.9650\n",
      "Epoch 49/55\n",
      "268/268 [==============================] - 2s 9ms/step - loss: 0.3085 - accuracy: 0.9776 - val_loss: 0.3328 - val_accuracy: 0.9650\n",
      "Epoch 50/55\n",
      "268/268 [==============================] - 2s 9ms/step - loss: 0.2953 - accuracy: 0.9851 - val_loss: 0.3250 - val_accuracy: 0.9700\n",
      "Epoch 51/55\n",
      "268/268 [==============================] - 3s 10ms/step - loss: 0.2855 - accuracy: 0.9813 - val_loss: 0.3179 - val_accuracy: 0.9650\n",
      "Epoch 52/55\n",
      "268/268 [==============================] - 3s 9ms/step - loss: 0.2747 - accuracy: 0.9776 - val_loss: 0.3103 - val_accuracy: 0.9650\n",
      "Epoch 53/55\n",
      "268/268 [==============================] - 3s 10ms/step - loss: 0.2664 - accuracy: 0.9776 - val_loss: 0.3045 - val_accuracy: 0.9700\n",
      "Epoch 54/55\n",
      "268/268 [==============================] - 3s 9ms/step - loss: 0.2626 - accuracy: 0.9701 - val_loss: 0.2944 - val_accuracy: 0.9700\n",
      "Epoch 55/55\n",
      "268/268 [==============================] - 2s 9ms/step - loss: 0.2504 - accuracy: 0.9739 - val_loss: 0.2868 - val_accuracy: 0.9650\n"
     ]
    }
   ],
   "source": [
    "model = create_model()\n",
    "epochs = 55\n",
    "reg_history = model.fit(xk_train, yk_train, epochs=epochs, batch_size=1, validation_data=(x_valid, y_valid))\n",
    "reg_history = reg_history.history"
   ]
  },
  {
   "cell_type": "code",
   "execution_count": 35,
   "metadata": {},
   "outputs": [
    {
     "name": "stdout",
     "output_type": "stream",
     "text": [
      "8/8 [==============================] - 0s 20ms/step - loss: 0.3222 - accuracy: 0.9394\n",
      "MSE = 0.3222477436065674, MAE: 0.939393937587738\n"
     ]
    }
   ],
   "source": [
    "mse, mae = model.evaluate(test_x, test_y)\n",
    "print(f\"MSE = {mse}, MAE: {mae}\")"
   ]
  },
  {
   "cell_type": "code",
   "execution_count": 36,
   "metadata": {},
   "outputs": [
    {
     "data": {
      "image/png": "[encoded data removed]",
      "text/plain": [
       "<Figure size 640x480 with 1 Axes>"
      ]
     },
     "metadata": {},
     "output_type": "display_data"
    }
   ],
   "source": [
    "plt.plot(np.arange(1, epochs + 1), reg_history['loss'], 'ro', label = \"Training loss\")\n",
    "plt.plot(np.arange(1, epochs + 1), reg_history['val_loss'], 'b', label = \"Validation loss\")\n",
    "plt.title(\"Train vs Validation\")\n",
    "plt.xlabel(\"Epochs\")\n",
    "plt.ylabel(\"Loss\")\n",
    "plt.legend()\n",
    "plt.show()"
   ]
  },
  {
   "cell_type": "code",
   "execution_count": 37,
   "metadata": {},
   "outputs": [
    {
     "data": {
      "image/png": "[encoded data removed]",
      "text/plain": [
       "<Figure size 640x480 with 1 Axes>"
      ]
     },
     "metadata": {},
     "output_type": "display_data"
    }
   ],
   "source": [
    "plt.plot(np.arange(1, epochs + 1), reg_history['accuracy'], 'ro', label = \"Training loss\")\n",
    "plt.plot(np.arange(1, epochs + 1), reg_history['val_accuracy'], 'b', label = \"Validation loss\")\n",
    "plt.title(\"Train vs Validation\")\n",
    "plt.xlabel(\"Epochs\")\n",
    "plt.ylabel(\"accuracy\")\n",
    "plt.legend()\n",
    "plt.show()"
   ]
  },
  {
   "cell_type": "code",
   "execution_count": null,
   "metadata": {},
   "outputs": [],
   "source": []
  }
 ],
 "metadata": {
  "kernelspec": {
   "display_name": "mlp",
   "language": "python",
   "name": "python3"
  },
  "language_info": {
   "codemirror_mode": {
    "name": "ipython",
    "version": 3
   },
   "file_extension": ".py",
   "mimetype": "text/x-python",
   "name": "python",
   "nbconvert_exporter": "python",
   "pygments_lexer": "ipython3",
   "version": "3.8.16"
  },
  "orig_nbformat": 4
 },
 "nbformat": 4,
 "nbformat_minor": 2
}
